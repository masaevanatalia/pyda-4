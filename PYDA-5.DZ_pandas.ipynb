{
 "cells": [
  {
   "cell_type": "code",
   "execution_count": 5,
   "metadata": {},
   "outputs": [],
   "source": [
    "import pandas as pd"
   ]
  },
  {
   "cell_type": "code",
   "execution_count": 6,
   "metadata": {},
   "outputs": [
    {
     "name": "stdout",
     "output_type": "stream",
     "text": [
      "   movieId  rating                             title       genres\n",
      "0      318     153  Shawshank Redemption, The (1994)  Crime|Drama\n"
     ]
    }
   ],
   "source": [
    "#task 1\n",
    "ratings = pd.read_csv(\"ratings.csv\")\n",
    "movies = pd.read_csv(\"movies.csv\")\n",
    "#ratings.head()\n",
    "#movies = pd.read_csv(\"movies.csv\")\n",
    "best_movie_id = ratings[['movieId', 'rating']].query('rating == 5').groupby('movieId').count().sort_values('rating', ascending = False).head(1)\n",
    "best_movie_info = best_movie_id.merge(movies, on = 'movieId', how = 'left')\n",
    "print(best_movie_info)\n",
    "\n",
    "#? можно ли как-то вывести значение всей строки для максимального значения количества оценок (с использованием max) по типу argmax в CH https://clickhouse.yandex/docs/ru/query_language/agg_functions/reference/#agg_function-argMax?\n",
    "#cтрока ниже выводит только количество оценок без идентификатора фильма:\n",
    "#best_movie_id = ratings[['movieId', 'rating']].query('rating == 5').groupby('movieId').agg('count').max()"
   ]
  },
  {
   "cell_type": "code",
   "execution_count": 7,
   "metadata": {},
   "outputs": [
    {
     "name": "stdout",
     "output_type": "stream",
     "text": [
      "sum =  201719.0\n"
     ]
    }
   ],
   "source": [
    "#task 2\n",
    "power = pd.read_csv(\"power.csv\")\n",
    "#print(power.head())\n",
    "filtered_power = power.query('category in list ([4, 12, 21]) and country in list([\"Latvia\", \"Estonia\", \"Lithuania\"]) and quantity > 0 and 2005<=year<2010')\n",
    "print('sum = ', sum(filtered_power['quantity']))"
   ]
  },
  {
   "cell_type": "code",
   "execution_count": 8,
   "metadata": {},
   "outputs": [
    {
     "name": "stdout",
     "output_type": "stream",
     "text": [
      "<class 'pandas.core.frame.DataFrame'>\n",
      "                          Type       Last   Chg.    Chg.%  Time\n",
      "0      Серебро Цена на серебро    14.9870 -3.069 -16.9970   NaN\n",
      "1      Платина Цены на платину   951.9000  0.800   0.1000   NaN\n",
      "2    Палладий Цена на палладий  1606.1500  0.650   0.0400   NaN\n",
      "3      Медь Цена меди на бирже     2.6565  0.016   0.6059   NaN\n",
      "4  Золото Цена золота на бирже  1502.0400  3.270   0.2200   NaN\n"
     ]
    }
   ],
   "source": [
    "#task 3\n",
    "df = pd.read_html('https://fortrader.org/quotes')[2]\n",
    "print(type(df))\n",
    "print(df.head())"
   ]
  },
  {
   "cell_type": "code",
   "execution_count": null,
   "metadata": {},
   "outputs": [],
   "source": []
  }
 ],
 "metadata": {
  "kernelspec": {
   "display_name": "Python 3",
   "language": "python",
   "name": "python3"
  },
  "language_info": {
   "codemirror_mode": {
    "name": "ipython",
    "version": 3
   },
   "file_extension": ".py",
   "mimetype": "text/x-python",
   "name": "python",
   "nbconvert_exporter": "python",
   "pygments_lexer": "ipython3",
   "version": "3.7.3"
  }
 },
 "nbformat": 4,
 "nbformat_minor": 2
}
