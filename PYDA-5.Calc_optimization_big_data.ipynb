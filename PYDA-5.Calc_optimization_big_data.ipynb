{
 "cells": [
  {
   "cell_type": "code",
   "execution_count": 77,
   "metadata": {},
   "outputs": [],
   "source": [
    "from datetime import datetime, timedelta, time"
   ]
  },
  {
   "cell_type": "code",
   "execution_count": 78,
   "metadata": {},
   "outputs": [],
   "source": [
    "#?вопрос 1: подскажите, пожалуйста, синтаксис, если в except не должно быть ничего? т.е. в данном случае пришлось вырождено присваивать значение переменной\n",
    "#?вопрос 2: думала в except качестве костыля использовать time.sleep(1) - закомментировано в коде, но получила ошибку type object 'datetime.time' has no attribute 'sleep', т.е. он искал sleep в библиотеке datetime, а не  time, как получить эту проблему?\n",
    "#task 1, 2\n",
    "def date_range (start_date, end_date):\n",
    "    dates_list = []\n",
    "    try:\n",
    "        start = datetime.strptime(start_date, '%Y-%m-%d').date()\n",
    "        end = datetime.strptime(end_date, '%Y-%m-%d').date()\n",
    "        while start < end:\n",
    "            dates_list.append(start.strftime('%Y-%m-%d'))\n",
    "            start += timedelta(days=1)\n",
    "    except:\n",
    "        bad_format = 1\n",
    "        #time.sleep(1)\n",
    "    return dates_list    "
   ]
  },
  {
   "cell_type": "code",
   "execution_count": 79,
   "metadata": {},
   "outputs": [
    {
     "name": "stdout",
     "output_type": "stream",
     "text": [
      "[]\n",
      "['2019-01-01', '2019-01-02', '2019-01-03', '2019-01-04', '2019-01-05', '2019-01-06', '2019-01-07', '2019-01-08', '2019-01-09', '2019-01-10', '2019-01-11', '2019-01-12', '2019-01-13', '2019-01-14']\n",
      "[]\n"
     ]
    }
   ],
   "source": [
    "#test\n",
    "print(date_range('2шг-01-01', '2019-01-10'))\n",
    "print(date_range('2019-01-01', '2019-01-15'))\n",
    "print(date_range('2020-01-01', '2019-01-15'))"
   ]
  },
  {
   "cell_type": "code",
   "execution_count": 43,
   "metadata": {},
   "outputs": [
    {
     "data": {
      "text/plain": [
       "[True, False, False]"
      ]
     },
     "execution_count": 43,
     "metadata": {},
     "output_type": "execute_result"
    }
   ],
   "source": [
    "#task 3\n",
    "stream = ['2018-04-02', '2018-02-29', '2018-19-02']\n",
    "def check_date(stream):\n",
    "    check_list = []\n",
    "    for i in stream:\n",
    "        try:\n",
    "            datetime.strptime (i, '%Y-%m-%d')\n",
    "            check_list.append(True)\n",
    "        except:\n",
    "            check_list.append(False)\n",
    "    return check_list\n",
    "\n",
    "check_date(stream)"
   ]
  },
  {
   "cell_type": "code",
   "execution_count": 81,
   "metadata": {},
   "outputs": [],
   "source": [
    "#task 4\n",
    "def create_dict(n, line):\n",
    "    stats_dict[tuple(line[:n])] = line[-1]"
   ]
  },
  {
   "cell_type": "code",
   "execution_count": 82,
   "metadata": {},
   "outputs": [],
   "source": [
    "stats_dict = {}\n",
    "\n",
    "with open('stats.csv') as f:\n",
    "    n = len(line_to_find)\n",
    "    for line in f:\n",
    "        line = line.strip().split(',')\n",
    "        create_dict(n, line)"
   ]
  },
  {
   "cell_type": "code",
   "execution_count": 83,
   "metadata": {},
   "outputs": [
    {
     "name": "stdout",
     "output_type": "stream",
     "text": [
      "102232\n"
     ]
    }
   ],
   "source": [
    "line_to_find = ('17', '13038')\n",
    "cost = stats_dict[line_to_find]\n",
    "print(cost)"
   ]
  }
 ],
 "metadata": {
  "kernelspec": {
   "display_name": "Python 3",
   "language": "python",
   "name": "python3"
  },
  "language_info": {
   "codemirror_mode": {
    "name": "ipython",
    "version": 3
   },
   "file_extension": ".py",
   "mimetype": "text/x-python",
   "name": "python",
   "nbconvert_exporter": "python",
   "pygments_lexer": "ipython3",
   "version": "3.7.3"
  }
 },
 "nbformat": 4,
 "nbformat_minor": 2
}
