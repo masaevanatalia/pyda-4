{
 "cells": [
  {
   "cell_type": "code",
   "execution_count": 228,
   "metadata": {},
   "outputs": [],
   "source": [
    "#Задание 1\n",
    "data = [\n",
    "[13, 25, 23, 34],\n",
    "[45, 32, 44, 47],\n",
    "[12, 33, 23, 95],\n",
    "[13, 53, 34, 35],\n",
    "]"
   ]
  },
  {
   "cell_type": "code",
   "execution_count": 235,
   "metadata": {},
   "outputs": [
    {
     "data": {
      "text/plain": [
       "103"
      ]
     },
     "execution_count": 235,
     "metadata": {},
     "output_type": "execute_result"
    }
   ],
   "source": [
    "def diag_sum(m_list):\n",
    "    rez = 0\n",
    "    for i, val in enumerate(data): \n",
    "        rez += val[i]\n",
    "    return(rez)\n",
    "\n",
    "diag_sum(data)"
   ]
  },
  {
   "cell_type": "code",
   "execution_count": 237,
   "metadata": {},
   "outputs": [],
   "source": [
    "#Задание 2\n",
    "data_1 = [1, '5', 'abc', 20, '2']"
   ]
  },
  {
   "cell_type": "code",
   "execution_count": 254,
   "metadata": {},
   "outputs": [
    {
     "data": {
      "text/plain": [
       "430"
      ]
     },
     "execution_count": 254,
     "metadata": {},
     "output_type": "execute_result"
    }
   ],
   "source": [
    "def squares_sum(m_list):\n",
    "    only_numbers = lambda x: str(x).isdigit() == 1\n",
    "    return (sum([int(x) ** 2 for x in data_1 if only_numbers(x)]))\n",
    "squares_sum(data_1)"
   ]
  },
  {
   "cell_type": "code",
   "execution_count": 282,
   "metadata": {},
   "outputs": [],
   "source": [
    "#Задание 3, 4\n",
    "class Rate:\n",
    "    def __init__(self, format='value'):\n",
    "        self.format = format\n",
    "    \n",
    "    def exchange_rates(self):\n",
    "        \"\"\"\n",
    "        Возвращает ответ сервиса с информацией о валютах в виде:\n",
    "        \n",
    "        {\n",
    "            'AMD': {\n",
    "                'CharCode': 'AMD',\n",
    "                'ID': 'R01060',\n",
    "                'Name': 'Армянских драмов',\n",
    "                'Nominal': 100,\n",
    "                'NumCode': '051',\n",
    "                'Previous': 14.103,\n",
    "                'Value': 14.0879\n",
    "                },\n",
    "            ...\n",
    "        }\n",
    "        \"\"\"\n",
    "        r = requests.get('https://www.cbr-xml-daily.ru/daily_json.js')\n",
    "        return r.json()['Valute']\n",
    "    def max_value(self):\n",
    "        \"\"\"\n",
    "        Возвращает название (Name) валюты с максимальным значением курса (Value / Nominal)\n",
    "        \"\"\"\n",
    "        response = self.exchange_rates()\n",
    "        exch_info = max(response.values(), key=lambda x: x['Value'] / x['Nominal'])\n",
    "        return (exch_info['Name'])\n",
    "    def make_format(self, currency):\n",
    "        \"\"\"\n",
    "        Возвращает информацию о валюте currency в двух вариантах:\n",
    "        - полная информация о валюте при self.format = 'full':\n",
    "        Rate('full').make_format('EUR')\n",
    "        {\n",
    "            'CharCode': 'EUR',\n",
    "            'ID': 'R01239',\n",
    "            'Name': 'Евро',\n",
    "            'Nominal': 1,\n",
    "            'NumCode': '978',\n",
    "            'Previous': 79.6765,\n",
    "            'Value': 79.4966\n",
    "        }\n",
    "        \n",
    "        Rate('value').make_format('EUR')\n",
    "        79.4966\n",
    "        \"\"\"\n",
    "        response = self.exchange_rates()\n",
    "        \n",
    "        if currency in response:\n",
    "            if self.format == 'full':\n",
    "                return response[currency]\n",
    "            \n",
    "            if self.format == 'value':\n",
    "                return response[currency]['Value']\n",
    "            \n",
    "            if self.format == 'previous_value':\n",
    "                return response[currency]['Previous']\n",
    "            \n",
    "            if self.format == 'name':\n",
    "                return response[currency]['Name']\n",
    "        \n",
    "        return 'Error'\n",
    "    \n",
    "    def eur(self, diff = False):\n",
    "        \"\"\"Возвращает курс евро на сегодня в формате self.format\"\"\"\n",
    "        if (diff == True):\n",
    "            #как можно сделать более красиво получение предыдущего значения без задания формата отдельной строкой?\n",
    "            \n",
    "            curr_value = self.make_format('EUR')\n",
    "            self.format = 'previous_value'\n",
    "            prev_value = self.make_format('EUR')    \n",
    "            return curr_value-prev_value\n",
    "        else:\n",
    "            return self.make_format('EUR')    \n",
    "            \n",
    "    def usd(self):\n",
    "        \"\"\"Возвращает курс доллара на сегодня в формате self.format\"\"\"\n",
    "        return self.make_format('USD')"
   ]
  },
  {
   "cell_type": "code",
   "execution_count": 292,
   "metadata": {},
   "outputs": [
    {
     "name": "stdout",
     "output_type": "stream",
     "text": [
      "СДР (специальные права заимствования)\n",
      "Евро\n",
      "0.20589999999999975\n",
      "73.4239\n"
     ]
    }
   ],
   "source": [
    "curr = Rate()\n",
    "#Задание 3\n",
    "print(curr.max_value())\n",
    "\n",
    "#Задание 4\n",
    "print(Rate('name').make_format('EUR'))\n",
    "\n",
    "print(Rate().eur(True))\n",
    "\n",
    "print(Rate().eur())"
   ]
  },
  {
   "cell_type": "code",
   "execution_count": 301,
   "metadata": {},
   "outputs": [
    {
     "data": {
      "text/plain": [
       "33"
      ]
     },
     "execution_count": 301,
     "metadata": {},
     "output_type": "execute_result"
    }
   ],
   "source": [
    "#Задание 5\n",
    "def sum_fibonacci(number):\n",
    "    rez = 0\n",
    "    fib = lambda n: fib(n - 1) + fib(n - 2) if n > 2 else 1\n",
    "    #можно ли было сделать сложение более элегантно без дополнительного while?\n",
    "    while number > 0:\n",
    "        rez += fib(number)\n",
    "        number -= 1\n",
    "    return rez\n",
    "\n",
    "sum_fibonacci(7)"
   ]
  },
  {
   "cell_type": "code",
   "execution_count": 289,
   "metadata": {},
   "outputs": [],
   "source": [
    "#Задание 6\n",
    "data =  ['2018-01-01', 'yandex', 'cpc', 100]"
   ]
  },
  {
   "cell_type": "code",
   "execution_count": 288,
   "metadata": {},
   "outputs": [
    {
     "data": {
      "text/plain": [
       "{'2018-01-01': {'yandex': {'cpc': 100}}}"
      ]
     },
     "execution_count": 288,
     "metadata": {},
     "output_type": "execute_result"
    }
   ],
   "source": [
    "def list2dict(m_list):\n",
    "    if len(m_list) > 1:\n",
    "        return {m_list[0] : list2dict(m_list[1:])}\n",
    "    else:\n",
    "        return m_list[0]\n",
    "\n",
    "list2dict(data)"
   ]
  }
 ],
 "metadata": {
  "kernelspec": {
   "display_name": "Python 3",
   "language": "python",
   "name": "python3"
  },
  "language_info": {
   "codemirror_mode": {
    "name": "ipython",
    "version": 3
   },
   "file_extension": ".py",
   "mimetype": "text/x-python",
   "name": "python",
   "nbconvert_exporter": "python",
   "pygments_lexer": "ipython3",
   "version": "3.6.4"
  }
 },
 "nbformat": 4,
 "nbformat_minor": 2
}
