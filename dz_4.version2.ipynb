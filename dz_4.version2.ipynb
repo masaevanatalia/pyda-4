{
 "cells": [
  {
   "cell_type": "markdown",
   "metadata": {
    "colab_type": "text",
    "id": "eY5OAxFSfZ9j"
   },
   "source": [
    "# Домашняя работа №4"
   ]
  },
  {
   "cell_type": "markdown",
   "metadata": {
    "colab_type": "text",
    "id": "bozSzxpJfgaR"
   },
   "source": [
    "Для датасета kaggle, Credit Card Fraud Detection"
   ]
  },
  {
   "cell_type": "markdown",
   "metadata": {
    "colab_type": "text",
    "id": "qvuEya_qflkG"
   },
   "source": [
    "**1. Загрузить датасет**"
   ]
  },
  {
   "cell_type": "code",
   "execution_count": 1,
   "metadata": {},
   "outputs": [],
   "source": [
    "import pandas as pd\n",
    "import numpy as np\n",
    "import matplotlib.pyplot as plt\n",
    "import seaborn as sns\n",
    "\n",
    "from scipy import stats\n",
    "import io\n",
    "import requests\n",
    "from scipy.stats import t\n",
    "from scipy.stats import norm\n",
    "\n",
    "%matplotlib inline"
   ]
  },
  {
   "cell_type": "code",
   "execution_count": 2,
   "metadata": {},
   "outputs": [
    {
     "data": {
      "text/html": [
       "<div>\n",
       "<style scoped>\n",
       "    .dataframe tbody tr th:only-of-type {\n",
       "        vertical-align: middle;\n",
       "    }\n",
       "\n",
       "    .dataframe tbody tr th {\n",
       "        vertical-align: top;\n",
       "    }\n",
       "\n",
       "    .dataframe thead th {\n",
       "        text-align: right;\n",
       "    }\n",
       "</style>\n",
       "<table border=\"1\" class=\"dataframe\">\n",
       "  <thead>\n",
       "    <tr style=\"text-align: right;\">\n",
       "      <th></th>\n",
       "      <th>Time</th>\n",
       "      <th>V1</th>\n",
       "      <th>V2</th>\n",
       "      <th>V3</th>\n",
       "      <th>V4</th>\n",
       "      <th>V5</th>\n",
       "      <th>V6</th>\n",
       "      <th>V7</th>\n",
       "      <th>V8</th>\n",
       "      <th>V9</th>\n",
       "      <th>...</th>\n",
       "      <th>V21</th>\n",
       "      <th>V22</th>\n",
       "      <th>V23</th>\n",
       "      <th>V24</th>\n",
       "      <th>V25</th>\n",
       "      <th>V26</th>\n",
       "      <th>V27</th>\n",
       "      <th>V28</th>\n",
       "      <th>Amount</th>\n",
       "      <th>Class</th>\n",
       "    </tr>\n",
       "  </thead>\n",
       "  <tbody>\n",
       "    <tr>\n",
       "      <th>0</th>\n",
       "      <td>64</td>\n",
       "      <td>1.212511</td>\n",
       "      <td>-0.099054</td>\n",
       "      <td>-1.192094</td>\n",
       "      <td>0.286324</td>\n",
       "      <td>2.160516</td>\n",
       "      <td>3.616314</td>\n",
       "      <td>-0.404207</td>\n",
       "      <td>0.842331</td>\n",
       "      <td>0.169360</td>\n",
       "      <td>...</td>\n",
       "      <td>-0.167496</td>\n",
       "      <td>-0.494695</td>\n",
       "      <td>-0.149785</td>\n",
       "      <td>1.011227</td>\n",
       "      <td>0.883548</td>\n",
       "      <td>-0.329434</td>\n",
       "      <td>0.020370</td>\n",
       "      <td>0.017037</td>\n",
       "      <td>34.70</td>\n",
       "      <td>0</td>\n",
       "    </tr>\n",
       "    <tr>\n",
       "      <th>1</th>\n",
       "      <td>64</td>\n",
       "      <td>-0.658305</td>\n",
       "      <td>0.406791</td>\n",
       "      <td>2.037461</td>\n",
       "      <td>-0.291298</td>\n",
       "      <td>0.147910</td>\n",
       "      <td>-0.350857</td>\n",
       "      <td>0.945373</td>\n",
       "      <td>-0.172560</td>\n",
       "      <td>0.025133</td>\n",
       "      <td>...</td>\n",
       "      <td>-0.156096</td>\n",
       "      <td>-0.238805</td>\n",
       "      <td>0.089877</td>\n",
       "      <td>0.421195</td>\n",
       "      <td>-0.352487</td>\n",
       "      <td>0.074783</td>\n",
       "      <td>-0.094192</td>\n",
       "      <td>-0.092493</td>\n",
       "      <td>54.99</td>\n",
       "      <td>0</td>\n",
       "    </tr>\n",
       "    <tr>\n",
       "      <th>2</th>\n",
       "      <td>124</td>\n",
       "      <td>1.105253</td>\n",
       "      <td>0.541842</td>\n",
       "      <td>0.839421</td>\n",
       "      <td>2.570933</td>\n",
       "      <td>-0.279517</td>\n",
       "      <td>-0.423062</td>\n",
       "      <td>0.088019</td>\n",
       "      <td>0.011622</td>\n",
       "      <td>-0.715756</td>\n",
       "      <td>...</td>\n",
       "      <td>-0.137434</td>\n",
       "      <td>-0.460991</td>\n",
       "      <td>0.189397</td>\n",
       "      <td>0.556329</td>\n",
       "      <td>0.185786</td>\n",
       "      <td>-0.189030</td>\n",
       "      <td>0.000208</td>\n",
       "      <td>0.026167</td>\n",
       "      <td>6.24</td>\n",
       "      <td>0</td>\n",
       "    </tr>\n",
       "    <tr>\n",
       "      <th>3</th>\n",
       "      <td>128</td>\n",
       "      <td>1.239495</td>\n",
       "      <td>-0.182609</td>\n",
       "      <td>0.155058</td>\n",
       "      <td>-0.928892</td>\n",
       "      <td>-0.746227</td>\n",
       "      <td>-1.235608</td>\n",
       "      <td>-0.061695</td>\n",
       "      <td>-0.125223</td>\n",
       "      <td>0.984938</td>\n",
       "      <td>...</td>\n",
       "      <td>0.146077</td>\n",
       "      <td>0.481119</td>\n",
       "      <td>-0.140019</td>\n",
       "      <td>0.538261</td>\n",
       "      <td>0.710720</td>\n",
       "      <td>-0.621382</td>\n",
       "      <td>0.036867</td>\n",
       "      <td>0.010963</td>\n",
       "      <td>8.80</td>\n",
       "      <td>0</td>\n",
       "    </tr>\n",
       "    <tr>\n",
       "      <th>4</th>\n",
       "      <td>132</td>\n",
       "      <td>-1.571359</td>\n",
       "      <td>1.687508</td>\n",
       "      <td>0.734670</td>\n",
       "      <td>1.293350</td>\n",
       "      <td>-0.217532</td>\n",
       "      <td>-0.002677</td>\n",
       "      <td>0.147364</td>\n",
       "      <td>0.515362</td>\n",
       "      <td>-0.372442</td>\n",
       "      <td>...</td>\n",
       "      <td>0.048549</td>\n",
       "      <td>0.377256</td>\n",
       "      <td>-0.030436</td>\n",
       "      <td>0.117608</td>\n",
       "      <td>-0.060520</td>\n",
       "      <td>-0.296550</td>\n",
       "      <td>-0.481570</td>\n",
       "      <td>-0.167897</td>\n",
       "      <td>10.00</td>\n",
       "      <td>0</td>\n",
       "    </tr>\n",
       "  </tbody>\n",
       "</table>\n",
       "<p>5 rows × 31 columns</p>\n",
       "</div>"
      ],
      "text/plain": [
       "   Time        V1        V2        V3        V4        V5        V6        V7  \\\n",
       "0    64  1.212511 -0.099054 -1.192094  0.286324  2.160516  3.616314 -0.404207   \n",
       "1    64 -0.658305  0.406791  2.037461 -0.291298  0.147910 -0.350857  0.945373   \n",
       "2   124  1.105253  0.541842  0.839421  2.570933 -0.279517 -0.423062  0.088019   \n",
       "3   128  1.239495 -0.182609  0.155058 -0.928892 -0.746227 -1.235608 -0.061695   \n",
       "4   132 -1.571359  1.687508  0.734670  1.293350 -0.217532 -0.002677  0.147364   \n",
       "\n",
       "         V8        V9  ...       V21       V22       V23       V24       V25  \\\n",
       "0  0.842331  0.169360  ... -0.167496 -0.494695 -0.149785  1.011227  0.883548   \n",
       "1 -0.172560  0.025133  ... -0.156096 -0.238805  0.089877  0.421195 -0.352487   \n",
       "2  0.011622 -0.715756  ... -0.137434 -0.460991  0.189397  0.556329  0.185786   \n",
       "3 -0.125223  0.984938  ...  0.146077  0.481119 -0.140019  0.538261  0.710720   \n",
       "4  0.515362 -0.372442  ...  0.048549  0.377256 -0.030436  0.117608 -0.060520   \n",
       "\n",
       "        V26       V27       V28  Amount  Class  \n",
       "0 -0.329434  0.020370  0.017037   34.70      0  \n",
       "1  0.074783 -0.094192 -0.092493   54.99      0  \n",
       "2 -0.189030  0.000208  0.026167    6.24      0  \n",
       "3 -0.621382  0.036867  0.010963    8.80      0  \n",
       "4 -0.296550 -0.481570 -0.167897   10.00      0  \n",
       "\n",
       "[5 rows x 31 columns]"
      ]
     },
     "execution_count": 2,
     "metadata": {},
     "output_type": "execute_result"
    }
   ],
   "source": [
    "data=pd.read_csv('creditcard_sampledata.csv').iloc[:,1:]\n",
    "data.head()"
   ]
  },
  {
   "cell_type": "markdown",
   "metadata": {
    "colab_type": "text",
    "id": "6gSTHiOJfqb2"
   },
   "source": [
    "**2. Посмотреть отсутствующие значения (какое количество Nan элементов).**"
   ]
  },
  {
   "cell_type": "code",
   "execution_count": 3,
   "metadata": {},
   "outputs": [
    {
     "name": "stdout",
     "output_type": "stream",
     "text": [
      "\n",
      " Ячейки с отсутствующими значениями: \n",
      " 0\n"
     ]
    }
   ],
   "source": [
    "print(\"\\n Ячейки с отсутствующими значениями: \\n\", data.isnull().sum().sum())"
   ]
  },
  {
   "cell_type": "markdown",
   "metadata": {
    "colab_type": "text",
    "id": "OFDGPbTpf7wn"
   },
   "source": [
    "**3. Основное таргет значение: 1 - сделка была обманной, 0 - честной. Сделать график barplot для этих двух классов из колонки 'Class'. Посчитать количество элементов в классе 1 и в классе 2.**"
   ]
  },
  {
   "cell_type": "code",
   "execution_count": 4,
   "metadata": {},
   "outputs": [
    {
     "name": "stdout",
     "output_type": "stream",
     "text": [
      "Class\n",
      "0    7983\n",
      "1      17\n",
      "Name: Class, dtype: int64\n"
     ]
    },
    {
     "data": {
      "image/png": "[encoded data removed]",
      "text/plain": [
       "<Figure size 432x288 with 1 Axes>"
      ]
     },
     "metadata": {
      "needs_background": "light"
     },
     "output_type": "display_data"
    }
   ],
   "source": [
    "sns.barplot(data[\"Class\"], data[\"Class\"].count())\n",
    "print(data.groupby('Class')['Class'].count())"
   ]
  },
  {
   "cell_type": "markdown",
   "metadata": {
    "colab_type": "text",
    "id": "lSsrxdWNhEbt"
   },
   "source": [
    "**4. Сколько денег было использовано в обманных операциях, а сколько - в нормальных операциях?** Сделать частотный график по колонке Amount для колонки Class по двум независимым выборкам: обманная операция, нормальная операция"
   ]
  },
  {
   "cell_type": "code",
   "execution_count": 5,
   "metadata": {},
   "outputs": [
    {
     "name": "stdout",
     "output_type": "stream",
     "text": [
      "суммы по обманным и нормальным операциям: \n",
      "    Class     Amount\n",
      "0      0  716244.08\n",
      "1      1    1109.89\n"
     ]
    }
   ],
   "source": [
    "print('суммы по обманным и нормальным операциям: \\n', data[['Amount', 'Class']].groupby('Class').sum().reset_index())"
   ]
  },
  {
   "cell_type": "code",
   "execution_count": 6,
   "metadata": {},
   "outputs": [
    {
     "data": {
      "image/png": "[encoded data removed]",
      "text/plain": [
       "<Figure size 432x288 with 2 Axes>"
      ]
     },
     "metadata": {
      "needs_background": "light"
     },
     "output_type": "display_data"
    }
   ],
   "source": [
    "fig, (ax1, ax2) = plt.subplots(1, 2)\n",
    "ax1.set_xlim(left=0, right=1000)\n",
    "ax2.set_xlim(left=0, right=500)\n",
    "ax1.hist(data.query('Class  == 0')['Amount'], bins = 1000)\n",
    "ax2.hist(data.query('Class  == 1')['Amount'], bins = 30)\n",
    "fig.suptitle('Частотный график по колонке Amount для колонки Class')\n",
    "plt.show()"
   ]
  },
  {
   "cell_type": "markdown",
   "metadata": {
    "colab_type": "text",
    "id": "ZvLC_vQXiP0N"
   },
   "source": [
    "**5. Построить графики histograms для всех значений**"
   ]
  },
  {
   "cell_type": "code",
   "execution_count": 7,
   "metadata": {},
   "outputs": [
    {
     "data": {
      "image/png": "[encoded data removed]",
      "text/plain": [
       "<Figure size 1080x1080 with 36 Axes>"
      ]
     },
     "metadata": {
      "needs_background": "light"
     },
     "output_type": "display_data"
    }
   ],
   "source": [
    "data.hist(figsize=(15,15))\n",
    "plt.show()"
   ]
  },
  {
   "cell_type": "markdown",
   "metadata": {
    "colab_type": "text",
    "id": "APD2wPSpi_eH"
   },
   "source": [
    "**6. Построить матрицу корреляций для всех значений**"
   ]
  },
  {
   "cell_type": "code",
   "execution_count": 8,
   "metadata": {},
   "outputs": [
    {
     "data": {
      "text/html": [
       "<div>\n",
       "<style scoped>\n",
       "    .dataframe tbody tr th:only-of-type {\n",
       "        vertical-align: middle;\n",
       "    }\n",
       "\n",
       "    .dataframe tbody tr th {\n",
       "        vertical-align: top;\n",
       "    }\n",
       "\n",
       "    .dataframe thead th {\n",
       "        text-align: right;\n",
       "    }\n",
       "</style>\n",
       "<table border=\"1\" class=\"dataframe\">\n",
       "  <thead>\n",
       "    <tr style=\"text-align: right;\">\n",
       "      <th></th>\n",
       "      <th>Time</th>\n",
       "      <th>V1</th>\n",
       "      <th>V2</th>\n",
       "      <th>V3</th>\n",
       "      <th>V4</th>\n",
       "      <th>V5</th>\n",
       "      <th>V6</th>\n",
       "      <th>V7</th>\n",
       "      <th>V8</th>\n",
       "      <th>V9</th>\n",
       "      <th>...</th>\n",
       "      <th>V21</th>\n",
       "      <th>V22</th>\n",
       "      <th>V23</th>\n",
       "      <th>V24</th>\n",
       "      <th>V25</th>\n",
       "      <th>V26</th>\n",
       "      <th>V27</th>\n",
       "      <th>V28</th>\n",
       "      <th>Amount</th>\n",
       "      <th>Class</th>\n",
       "    </tr>\n",
       "  </thead>\n",
       "  <tbody>\n",
       "    <tr>\n",
       "      <th>0</th>\n",
       "      <td>-1.000000</td>\n",
       "      <td>0.928245</td>\n",
       "      <td>0.431868</td>\n",
       "      <td>0.567334</td>\n",
       "      <td>-0.212954</td>\n",
       "      <td>0.570282</td>\n",
       "      <td>-0.279725</td>\n",
       "      <td>-0.361905</td>\n",
       "      <td>0.510607</td>\n",
       "      <td>0.068316</td>\n",
       "      <td>...</td>\n",
       "      <td>-0.031350</td>\n",
       "      <td>-0.033056</td>\n",
       "      <td>-0.215096</td>\n",
       "      <td>0.197038</td>\n",
       "      <td>0.429942</td>\n",
       "      <td>-0.437884</td>\n",
       "      <td>0.044609</td>\n",
       "      <td>-0.616334</td>\n",
       "      <td>-0.993196</td>\n",
       "      <td>-1.0</td>\n",
       "    </tr>\n",
       "    <tr>\n",
       "      <th>1</th>\n",
       "      <td>-1.000000</td>\n",
       "      <td>0.812571</td>\n",
       "      <td>0.456759</td>\n",
       "      <td>0.837215</td>\n",
       "      <td>-0.292674</td>\n",
       "      <td>0.496075</td>\n",
       "      <td>-0.529799</td>\n",
       "      <td>-0.320564</td>\n",
       "      <td>0.453641</td>\n",
       "      <td>0.051021</td>\n",
       "      <td>...</td>\n",
       "      <td>-0.030549</td>\n",
       "      <td>0.022981</td>\n",
       "      <td>-0.200068</td>\n",
       "      <td>0.012442</td>\n",
       "      <td>-0.000402</td>\n",
       "      <td>-0.245625</td>\n",
       "      <td>0.024081</td>\n",
       "      <td>-0.627659</td>\n",
       "      <td>-0.989217</td>\n",
       "      <td>-1.0</td>\n",
       "    </tr>\n",
       "    <tr>\n",
       "      <th>2</th>\n",
       "      <td>-0.999305</td>\n",
       "      <td>0.921613</td>\n",
       "      <td>0.463404</td>\n",
       "      <td>0.737099</td>\n",
       "      <td>0.102355</td>\n",
       "      <td>0.480315</td>\n",
       "      <td>-0.534350</td>\n",
       "      <td>-0.346827</td>\n",
       "      <td>0.463979</td>\n",
       "      <td>-0.037822</td>\n",
       "      <td>...</td>\n",
       "      <td>-0.029238</td>\n",
       "      <td>-0.025675</td>\n",
       "      <td>-0.193827</td>\n",
       "      <td>0.054719</td>\n",
       "      <td>0.187006</td>\n",
       "      <td>-0.371103</td>\n",
       "      <td>0.040996</td>\n",
       "      <td>-0.615390</td>\n",
       "      <td>-0.998776</td>\n",
       "      <td>-1.0</td>\n",
       "    </tr>\n",
       "    <tr>\n",
       "      <th>3</th>\n",
       "      <td>-0.999259</td>\n",
       "      <td>0.929913</td>\n",
       "      <td>0.427757</td>\n",
       "      <td>0.679910</td>\n",
       "      <td>-0.380671</td>\n",
       "      <td>0.463107</td>\n",
       "      <td>-0.585570</td>\n",
       "      <td>-0.351413</td>\n",
       "      <td>0.456298</td>\n",
       "      <td>0.166115</td>\n",
       "      <td>...</td>\n",
       "      <td>-0.009312</td>\n",
       "      <td>0.180636</td>\n",
       "      <td>-0.214484</td>\n",
       "      <td>0.049067</td>\n",
       "      <td>0.369770</td>\n",
       "      <td>-0.576744</td>\n",
       "      <td>0.047565</td>\n",
       "      <td>-0.616962</td>\n",
       "      <td>-0.998274</td>\n",
       "      <td>-1.0</td>\n",
       "    </tr>\n",
       "    <tr>\n",
       "      <th>4</th>\n",
       "      <td>-0.999213</td>\n",
       "      <td>0.756116</td>\n",
       "      <td>0.519777</td>\n",
       "      <td>0.728346</td>\n",
       "      <td>-0.073970</td>\n",
       "      <td>0.482600</td>\n",
       "      <td>-0.507851</td>\n",
       "      <td>-0.345009</td>\n",
       "      <td>0.492254</td>\n",
       "      <td>0.003346</td>\n",
       "      <td>...</td>\n",
       "      <td>-0.016167</td>\n",
       "      <td>0.157891</td>\n",
       "      <td>-0.207612</td>\n",
       "      <td>-0.082538</td>\n",
       "      <td>0.101251</td>\n",
       "      <td>-0.422244</td>\n",
       "      <td>-0.045332</td>\n",
       "      <td>-0.635456</td>\n",
       "      <td>-0.998039</td>\n",
       "      <td>-1.0</td>\n",
       "    </tr>\n",
       "  </tbody>\n",
       "</table>\n",
       "<p>5 rows × 31 columns</p>\n",
       "</div>"
      ],
      "text/plain": [
       "       Time        V1        V2        V3        V4        V5        V6  \\\n",
       "0 -1.000000  0.928245  0.431868  0.567334 -0.212954  0.570282 -0.279725   \n",
       "1 -1.000000  0.812571  0.456759  0.837215 -0.292674  0.496075 -0.529799   \n",
       "2 -0.999305  0.921613  0.463404  0.737099  0.102355  0.480315 -0.534350   \n",
       "3 -0.999259  0.929913  0.427757  0.679910 -0.380671  0.463107 -0.585570   \n",
       "4 -0.999213  0.756116  0.519777  0.728346 -0.073970  0.482600 -0.507851   \n",
       "\n",
       "         V7        V8        V9  ...       V21       V22       V23       V24  \\\n",
       "0 -0.361905  0.510607  0.068316  ... -0.031350 -0.033056 -0.215096  0.197038   \n",
       "1 -0.320564  0.453641  0.051021  ... -0.030549  0.022981 -0.200068  0.012442   \n",
       "2 -0.346827  0.463979 -0.037822  ... -0.029238 -0.025675 -0.193827  0.054719   \n",
       "3 -0.351413  0.456298  0.166115  ... -0.009312  0.180636 -0.214484  0.049067   \n",
       "4 -0.345009  0.492254  0.003346  ... -0.016167  0.157891 -0.207612 -0.082538   \n",
       "\n",
       "        V25       V26       V27       V28    Amount  Class  \n",
       "0  0.429942 -0.437884  0.044609 -0.616334 -0.993196   -1.0  \n",
       "1 -0.000402 -0.245625  0.024081 -0.627659 -0.989217   -1.0  \n",
       "2  0.187006 -0.371103  0.040996 -0.615390 -0.998776   -1.0  \n",
       "3  0.369770 -0.576744  0.047565 -0.616962 -0.998274   -1.0  \n",
       "4  0.101251 -0.422244 -0.045332 -0.635456 -0.998039   -1.0  \n",
       "\n",
       "[5 rows x 31 columns]"
      ]
     },
     "execution_count": 8,
     "metadata": {},
     "output_type": "execute_result"
    }
   ],
   "source": [
    "headers = list(data.columns.values)\n",
    "\n",
    "from sklearn import preprocessing\n",
    "min_max_scaler = preprocessing.MinMaxScaler(feature_range=(-1,1))\n",
    "\n",
    "np_scaled = min_max_scaler.fit_transform(data)\n",
    "df_norm = pd.DataFrame(np_scaled)\n",
    "df_norm.head()\n",
    "\n",
    "df_norm.columns = headers\n",
    "df_norm.head()"
   ]
  },
  {
   "cell_type": "code",
   "execution_count": 9,
   "metadata": {},
   "outputs": [
    {
     "data": {
      "text/plain": [
       "<matplotlib.axes._subplots.AxesSubplot at 0x19945774588>"
      ]
     },
     "execution_count": 9,
     "metadata": {},
     "output_type": "execute_result"
    },
    {
     "data": {
      "image/png": "[encoded data removed]",
      "text/plain": [
       "<Figure size 936x936 with 2 Axes>"
      ]
     },
     "metadata": {
      "needs_background": "light"
     },
     "output_type": "display_data"
    }
   ],
   "source": [
    "f, ax = plt.subplots(figsize=(13, 13))\n",
    "corr = df_norm.corr()\n",
    "sns.heatmap(corr, mask=np.zeros_like(corr, dtype=np.bool), cmap=sns.diverging_palette(220, 10, as_cmap=True),\n",
    "            square=True, ax=ax)"
   ]
  },
  {
   "cell_type": "markdown",
   "metadata": {
    "colab_type": "text",
    "id": "gZwGybULjSUA"
   },
   "source": [
    "**7. Выбрать несколько элементов исходя из матрицы корреляций для предсказания таргет значения Class. Построить модель логистической регрессии. Разделить датасет на 80% тренировочных данных и 20% тестовых данных. Для fit метода использовать тренировочные данные, проверить качество модели на тестовых данных. Почему модель дает такой результат?**\n",
    "\n",
    "Для разделения на тренировочный датасет и тестовый датасет можно использовать функцию  из sklearn:\n",
    "\n",
    "from sklearn.cross_validation import train_test_split\n",
    "\n",
    "X_train, X_test, y_train, y_test = train_test_split(X,y,test_size = 0.2, random_state = 0)"
   ]
  },
  {
   "cell_type": "code",
   "execution_count": 20,
   "metadata": {},
   "outputs": [],
   "source": [
    "#тестовая и обучающая выборка на всех строках df\n",
    "from sklearn.model_selection import train_test_split\n",
    "\n",
    "column_sels = ['V17', 'V14', 'V12', 'V10']\n",
    "x = data.loc[:,column_sels]\n",
    "v17 = x['V17']\n",
    "v14 = x['V14']\n",
    "v12 = x['V12']\n",
    "v10 = x['V10']\n",
    "\n",
    "y = data['Class']\n",
    "x = np.vstack([np.array(v17), np.array(v14), np.array(v12), np.array(v10)]).T\n",
    "X_train,X_test,y_train,y_test = train_test_split(x,\n",
    "                                                 y,\n",
    "                                                 test_size = 0.2,\n",
    "                                                 random_state = 0)"
   ]
  },
  {
   "cell_type": "code",
   "execution_count": 11,
   "metadata": {},
   "outputs": [
    {
     "name": "stdout",
     "output_type": "stream",
     "text": [
      "intercept: 0.0017860449608705592\n",
      "slope: [-0.01268008 -0.01016008 -0.00775712 -0.00588069]\n"
     ]
    },
    {
     "data": {
      "text/plain": [
       "0.28441950341506095"
      ]
     },
     "execution_count": 11,
     "metadata": {},
     "output_type": "execute_result"
    }
   ],
   "source": [
    "#линейная регрессия (было в исходном варианте дз, оставила)\n",
    "\n",
    "from sklearn.linear_model import LinearRegression\n",
    "model_linear = LinearRegression().fit(X_train, y_train)\n",
    "print('intercept:', model_linear.intercept_)\n",
    "print('slope:', model_linear.coef_)\n",
    "\n",
    "model_linear.score(X_test, y_test)"
   ]
  },
  {
   "cell_type": "code",
   "execution_count": 12,
   "metadata": {},
   "outputs": [
    {
     "name": "stdout",
     "output_type": "stream",
     "text": [
      "Точность предсказания модели:  0.996875\n"
     ]
    },
    {
     "name": "stderr",
     "output_type": "stream",
     "text": [
      "C:\\Users\\bns\\AppData\\Local\\Continuum\\anaconda3\\lib\\site-packages\\sklearn\\linear_model\\logistic.py:432: FutureWarning: Default solver will be changed to 'lbfgs' in 0.22. Specify a solver to silence this warning.\n",
      "  FutureWarning)\n"
     ]
    }
   ],
   "source": [
    "#логистическая регрессия (поправка к дз по лекции)\n",
    "from sklearn.linear_model import LogisticRegression\n",
    "from sklearn.metrics import accuracy_score \n",
    "\n",
    "model_logistic = LogisticRegression().fit(X_train, y_train)\n",
    "predicted_classes = model_logistic.predict(X_test)\n",
    "\n",
    "print('Точность предсказания модели: ', accuracy_score(y_test,predicted_classes))\n",
    "parameters = model_logistic.coef_"
   ]
  },
  {
   "cell_type": "markdown",
   "metadata": {},
   "source": [
    "Логистическая регрессия дала гораздо более качественную модель, чем линейная регрессия. "
   ]
  },
  {
   "cell_type": "markdown",
   "metadata": {
    "colab_type": "text",
    "id": "xb79RahXkBlM"
   },
   "source": [
    "**8. Чтобы уравновесить датасет по классу Class, выберем одинаковое количество элементов из датасета по классу.** Необходимо посчитать минимальное количество (N) элементов, посчитанное в задаче 3. Выбрать N элементов рандомно из класса, имеющего бОльшее количество элементов, и все элементы из класса имеющего меньшее количество. Таким образом, мы уравновесим датасет по количеству элементов. Смоделировать логистическую регрессию на полученном датасете. Посчитать качество модели. Получилось ли улучшить модель? Если да, то засчет чего?"
   ]
  },
  {
   "cell_type": "code",
   "execution_count": 13,
   "metadata": {},
   "outputs": [],
   "source": [
    "from imblearn.under_sampling import RandomUnderSampler"
   ]
  },
  {
   "cell_type": "code",
   "execution_count": 14,
   "metadata": {},
   "outputs": [],
   "source": [
    "data.head()\n",
    "Y = data[\"Class\"].ravel() \n",
    "input_x = data.loc[:,column_sels]"
   ]
  },
  {
   "cell_type": "code",
   "execution_count": 15,
   "metadata": {},
   "outputs": [
    {
     "name": "stdout",
     "output_type": "stream",
     "text": [
      "Количество элементов до операции: 8000\n",
      "Количество элементов после операции: 34\n"
     ]
    }
   ],
   "source": [
    "#!pip install imblearn --user\n",
    "ros = RandomUnderSampler(random_state=0)\n",
    "X = input_x\n",
    "ros.fit(X, Y)\n",
    "X_resampled, y_resampled = ros.fit_sample(X, Y)\n",
    "print('Количество элементов до операции:', len(X))\n",
    "print('Количество элементов после операции:', len(X_resampled))"
   ]
  },
  {
   "cell_type": "code",
   "execution_count": 16,
   "metadata": {},
   "outputs": [],
   "source": [
    "y = y_resampled\n",
    "x = np.vstack(X_resampled)\n",
    "X_train_under,X_test_under,y_train_under,y_test_under = train_test_split(x,\n",
    "                                                 y,\n",
    "                                                 test_size = 0.2,#%70 train, 30% test\n",
    "                                                 random_state = 0)"
   ]
  },
  {
   "cell_type": "code",
   "execution_count": 30,
   "metadata": {},
   "outputs": [
    {
     "name": "stdout",
     "output_type": "stream",
     "text": [
      "intercept: 0.25106896692594727\n",
      "slope: [ 0.00840464 -0.07382553 -0.00423968 -0.0104272 ]\n"
     ]
    },
    {
     "data": {
      "text/plain": [
       "-0.25405075526929854"
      ]
     },
     "execution_count": 30,
     "metadata": {},
     "output_type": "execute_result"
    }
   ],
   "source": [
    "model_linear_under = LinearRegression().fit(X_train_under, y_train_under)\n",
    "print('intercept:', model_linear_under.intercept_)\n",
    "print('slope:', model_linear_under.coef_)\n",
    "\n",
    "model_linear_under.score(X_test_under, y_test_under)"
   ]
  },
  {
   "cell_type": "markdown",
   "metadata": {},
   "source": [
    "В данном случае получили плохую модель на линейной регрессии и интересно, что коэффициент получили с обратным знаком, чем по всем строкам df. Думаю это произошло из-за того, что в датасэте осталось только 34 значения, мало данных для построения модели."
   ]
  },
  {
   "cell_type": "code",
   "execution_count": 28,
   "metadata": {},
   "outputs": [
    {
     "name": "stderr",
     "output_type": "stream",
     "text": [
      "C:\\Users\\bns\\AppData\\Local\\Continuum\\anaconda3\\lib\\site-packages\\sklearn\\linear_model\\logistic.py:432: FutureWarning: Default solver will be changed to 'lbfgs' in 0.22. Specify a solver to silence this warning.\n",
      "  FutureWarning)\n"
     ]
    },
    {
     "name": "stdout",
     "output_type": "stream",
     "text": [
      "Точность предсказания модели:  0.94125\n"
     ]
    }
   ],
   "source": [
    "#логистическая регрессия (поправка к дз по лекции)\n",
    "#здесь обучаюсь на уменьшенной выборке, а тест смотрю по всему датасэту, чтобы сравнивать с предыдущими и последующими методами (так и предполагается?)\n",
    "from sklearn.linear_model import LogisticRegression\n",
    "from sklearn.metrics import accuracy_score \n",
    "\n",
    "model_logistic_under = LogisticRegression().fit(X_train_under, y_train_under)\n",
    "predicted_classes = model_logistic_under.predict(X_test)\n",
    "\n",
    "print('Точность предсказания модели: ', accuracy_score(y_test,predicted_classes))\n",
    "parameters = model_logistic_under.coef_"
   ]
  },
  {
   "cell_type": "markdown",
   "metadata": {},
   "source": [
    "На сокращенном датасэте получили модель хуже, чем на том же алгоритме логистической регрессии (0,94 vs 0,99), но с учетом того, что датасэт из 8000 строк стал 34 строки - это интересный результат."
   ]
  },
  {
   "cell_type": "markdown",
   "metadata": {
    "colab_type": "text",
    "id": "cTJa7iw7nDh7"
   },
   "source": [
    "**9. Написать модель RandomForestClassifier на данный датасэт и сравнить результаты с логистической регрессией. Почему результаты получились лучше (или хуже). Тренировочные и тестовые данные выбираем одинаковые (те же, что и для логистической регрессии).**"
   ]
  },
  {
   "cell_type": "code",
   "execution_count": 31,
   "metadata": {
    "colab": {},
    "colab_type": "code",
    "id": "s6L7CnEhfZJ-"
   },
   "outputs": [
    {
     "name": "stderr",
     "output_type": "stream",
     "text": [
      "No handles with labels found to put in legend.\n"
     ]
    },
    {
     "data": {
      "image/png": "[encoded data removed]",
      "text/plain": [
       "<Figure size 720x720 with 1 Axes>"
      ]
     },
     "metadata": {
      "needs_background": "light"
     },
     "output_type": "display_data"
    }
   ],
   "source": [
    "from sklearn.ensemble import RandomForestClassifier\n",
    "\n",
    "# создаем модель деревья решений\n",
    "model_randomforest=RandomForestClassifier(n_estimators=100)\n",
    "\n",
    "# обучаем модель\n",
    "model_randomforest.fit(X_train,y_train)\n",
    "\n",
    "feature_imp = pd.Series(model_randomforest.feature_importances_,index=column_sels).sort_values(ascending=False)\n",
    "\n",
    "f, ax = plt.subplots(figsize=(10, 10))\n",
    "sns.barplot(x=feature_imp, y=feature_imp.index)\n",
    "\n",
    "plt.xlabel('Важность атрибутов')\n",
    "plt.ylabel('Атрибуты')\n",
    "plt.title(\"Наиболее важные атрибуты\")\n",
    "plt.legend()\n",
    "plt.show()"
   ]
  },
  {
   "cell_type": "code",
   "execution_count": 32,
   "metadata": {},
   "outputs": [
    {
     "data": {
      "text/plain": [
       "0.99625"
      ]
     },
     "execution_count": 32,
     "metadata": {},
     "output_type": "execute_result"
    }
   ],
   "source": [
    "model_randomforest.score(X_test, y_test)"
   ]
  },
  {
   "cell_type": "markdown",
   "metadata": {},
   "source": [
    "Если сравнивать 3 алгоритма: линейную регрессий, логистическую и randomforest, хуже всего показала себя линейная регрессия, а 2 других алгоритма показали хорошее качество примерно одинакового уровня - 0.9968 vs 0.9962 (цифры совпадают до 3-х знаков после запятой), по четвертому знаку лучше отработала модель логистической регрессии."
   ]
  }
 ],
 "metadata": {
  "colab": {
   "name": "Untitled19.ipynb",
   "provenance": [],
   "version": "0.3.2"
  },
  "kernelspec": {
   "display_name": "Python 3",
   "language": "python",
   "name": "python3"
  },
  "language_info": {
   "codemirror_mode": {
    "name": "ipython",
    "version": 3
   },
   "file_extension": ".py",
   "mimetype": "text/x-python",
   "name": "python",
   "nbconvert_exporter": "python",
   "pygments_lexer": "ipython3",
   "version": "3.7.3"
  }
 },
 "nbformat": 4,
 "nbformat_minor": 1
}
